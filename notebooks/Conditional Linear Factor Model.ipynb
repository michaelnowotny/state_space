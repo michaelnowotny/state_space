{
 "cells": [
  {
   "cell_type": "markdown",
   "metadata": {},
   "source": [
    "# Import Packages"
   ]
  },
  {
   "cell_type": "code",
   "execution_count": 65,
   "metadata": {
    "ExecuteTime": {
     "end_time": "2020-02-10T22:54:44.122758Z",
     "start_time": "2020-02-10T22:54:44.094818Z"
    }
   },
   "outputs": [
    {
     "name": "stdout",
     "output_type": "stream",
     "text": [
      "The autoreload extension is already loaded. To reload it, use:\n",
      "  %reload_ext autoreload\n",
      "The autoreload extension is already loaded. To reload it, use:\n",
      "  %reload_ext autoreload\n"
     ]
    }
   ],
   "source": [
    "%load_ext autoreload\n",
    "%autoreload 2"
   ]
  },
  {
   "cell_type": "code",
   "execution_count": 66,
   "metadata": {
    "ExecuteTime": {
     "end_time": "2020-02-10T22:54:44.156907Z",
     "start_time": "2020-02-10T22:54:44.124154Z"
    }
   },
   "outputs": [],
   "source": [
    "%matplotlib inline\n",
    "\n",
    "import matplotlib.pyplot as plt\n",
    "import numpy as np\n",
    "import os\n",
    "import pandas as pd\n",
    "import sympy as sym\n",
    "import statsmodels.api as sm\n",
    "import typing as tp"
   ]
  },
  {
   "cell_type": "code",
   "execution_count": 67,
   "metadata": {
    "ExecuteTime": {
     "end_time": "2020-02-10T22:54:44.189123Z",
     "start_time": "2020-02-10T22:54:44.158099Z"
    }
   },
   "outputs": [],
   "source": [
    "from state_space.data_reader import (\n",
    "    load_monthly_and_annual_ff_factors, \n",
    "    compute_monthly_returns\n",
    ")"
   ]
  },
  {
   "cell_type": "code",
   "execution_count": 68,
   "metadata": {
    "ExecuteTime": {
     "end_time": "2020-02-10T22:54:44.225871Z",
     "start_time": "2020-02-10T22:54:44.194266Z"
    }
   },
   "outputs": [],
   "source": [
    "from state_space import (\n",
    "    SymbolicStateSpaceModelViaMaximumLikelihood, \n",
    "    LambdaParameterTransformation, \n",
    "    RectangularParameterTransformation\n",
    ")"
   ]
  },
  {
   "cell_type": "markdown",
   "metadata": {},
   "source": [
    "# Load Data"
   ]
  },
  {
   "cell_type": "code",
   "execution_count": 69,
   "metadata": {
    "ExecuteTime": {
     "end_time": "2020-02-10T22:54:44.259107Z",
     "start_time": "2020-02-10T22:54:44.227701Z"
    }
   },
   "outputs": [],
   "source": [
    "data_directory_name = 'data'\n",
    "ford_data_filename = os.path.join(data_directory_name, 'F_monthly.csv')\n",
    "gspc_data_filename = os.path.join(data_directory_name, '^GSPC_monthly.csv')\n",
    "ff_data_filename = os.path.join(data_directory_name, 'F-F_Research_Data_Factors_monthly.CSV')"
   ]
  },
  {
   "cell_type": "code",
   "execution_count": 70,
   "metadata": {
    "ExecuteTime": {
     "end_time": "2020-02-10T22:54:44.299640Z",
     "start_time": "2020-02-10T22:54:44.260462Z"
    }
   },
   "outputs": [],
   "source": [
    "ford_prices = pd.read_csv(ford_data_filename).set_index('Date')\n",
    "gspc_prices = pd.read_csv(gspc_data_filename).set_index('Date')"
   ]
  },
  {
   "cell_type": "markdown",
   "metadata": {},
   "source": [
    "Load Fama-French factors"
   ]
  },
  {
   "cell_type": "code",
   "execution_count": 71,
   "metadata": {
    "ExecuteTime": {
     "end_time": "2020-02-10T22:54:44.354216Z",
     "start_time": "2020-02-10T22:54:44.301136Z"
    }
   },
   "outputs": [],
   "source": [
    "ff_monthly, ff_annual = load_monthly_and_annual_ff_factors(ff_data_filename)"
   ]
  },
  {
   "cell_type": "markdown",
   "metadata": {},
   "source": [
    "# Prepare Data"
   ]
  },
  {
   "cell_type": "markdown",
   "metadata": {},
   "source": [
    "Compute Ford returns"
   ]
  },
  {
   "cell_type": "code",
   "execution_count": 72,
   "metadata": {
    "ExecuteTime": {
     "end_time": "2020-02-10T22:54:44.390355Z",
     "start_time": "2020-02-10T22:54:44.355680Z"
    }
   },
   "outputs": [],
   "source": [
    "ford_returns = compute_monthly_returns(ford_prices, name='ford')"
   ]
  },
  {
   "cell_type": "markdown",
   "metadata": {},
   "source": [
    "Compute S&P 500 index returns"
   ]
  },
  {
   "cell_type": "code",
   "execution_count": 73,
   "metadata": {
    "ExecuteTime": {
     "end_time": "2020-02-10T22:54:44.427096Z",
     "start_time": "2020-02-10T22:54:44.391634Z"
    }
   },
   "outputs": [],
   "source": [
    "gspc_returns = compute_monthly_returns(gspc_prices, name='gspc')"
   ]
  },
  {
   "cell_type": "markdown",
   "metadata": {},
   "source": [
    "Compute excess returns on both"
   ]
  },
  {
   "cell_type": "code",
   "execution_count": 74,
   "metadata": {
    "ExecuteTime": {
     "end_time": "2020-02-10T22:54:44.461776Z",
     "start_time": "2020-02-10T22:54:44.428326Z"
    }
   },
   "outputs": [],
   "source": [
    "gspc_excess_returns = gspc_returns - ff_monthly['RF']\n",
    "ford_excess_returns = ford_returns - ff_monthly['RF']"
   ]
  },
  {
   "cell_type": "markdown",
   "metadata": {},
   "source": [
    "Put Ford and S&P 500 returns in a single dataframe"
   ]
  },
  {
   "cell_type": "code",
   "execution_count": 75,
   "metadata": {
    "ExecuteTime": {
     "end_time": "2020-02-10T22:54:44.498657Z",
     "start_time": "2020-02-10T22:54:44.462988Z"
    }
   },
   "outputs": [],
   "source": [
    "joint_returns = pd.DataFrame({'ford': ford_returns, 'gspc': gspc_returns, 'rf': ff_monthly['RF']}).dropna()"
   ]
  },
  {
   "cell_type": "code",
   "execution_count": 76,
   "metadata": {
    "ExecuteTime": {
     "end_time": "2020-02-10T22:54:44.533361Z",
     "start_time": "2020-02-10T22:54:44.499992Z"
    }
   },
   "outputs": [],
   "source": [
    "joint_excess_returns = pd.DataFrame({'ford': ford_excess_returns, 'gspc': gspc_excess_returns}).dropna()"
   ]
  },
  {
   "cell_type": "markdown",
   "metadata": {},
   "source": [
    "Restrict the time horizon from 1990 to 2004"
   ]
  },
  {
   "cell_type": "code",
   "execution_count": 77,
   "metadata": {
    "ExecuteTime": {
     "end_time": "2020-02-10T22:54:44.568343Z",
     "start_time": "2020-02-10T22:54:44.534526Z"
    }
   },
   "outputs": [],
   "source": [
    "restricted_joint_excess_returns = joint_excess_returns.query('Date >= 1990 and Date < 2004')"
   ]
  },
  {
   "cell_type": "markdown",
   "metadata": {},
   "source": [
    "# Conditional Factor Model and State-Space Representation"
   ]
  },
  {
   "cell_type": "markdown",
   "metadata": {},
   "source": [
    "## Stochastic Process Model"
   ]
  },
  {
   "cell_type": "markdown",
   "metadata": {},
   "source": [
    "Consider a univariate linear factor model with time-varying coefficients, where the factor is the return on an equity index. This model can be written as\n",
    "\n",
    "$r_t = \\alpha_t + \\beta_t r_{M, t} + e_t$\n",
    "\n",
    "$\\alpha_{t+1} = \\alpha_t + \\eta_t$\n",
    "\n",
    "$\\beta_{t+1} = \\beta_t + \\epsilon_t$\n",
    "\n",
    "where $r_t$ is the excess return of the stock over period $t$ and $r_{M, t}$ is the excess return of the market over period $t$. The innovations $e$, $\\eta$, and $\\epsilon$ are both serially and mutually independent and distributed as follows:\n",
    "\n",
    "$e_t \\sim N(0, \\sigma^2_e)$\n",
    "\n",
    "$\\eta_t \\sim N(0, \\sigma^2_{\\eta})$\n",
    "\n",
    "$\\epsilon_t \\sim N(0, \\sigma^2_{\\epsilon})$"
   ]
  },
  {
   "cell_type": "markdown",
   "metadata": {},
   "source": [
    "## State Space Representation"
   ]
  },
  {
   "cell_type": "markdown",
   "metadata": {},
   "source": [
    "This model can be represented in statespace form as:\n",
    "\n",
    "$s_t = \\begin{pmatrix} \\alpha_t \\\\ \\beta_t \\end{pmatrix}$ (state), \n",
    "\n",
    "$y_t = r_t$ (observation)\n",
    "\n",
    "$s_{t+1} = \\begin{pmatrix} 1 & 0 \\\\ 0 & 1 \\end{pmatrix} \\cdot s_t + \\begin{pmatrix} \\eta_t \\\\ \\epsilon_t \\end{pmatrix}$\n",
    "\n",
    "$y_t = \\begin{pmatrix} 1 & r_{M, t} \\end{pmatrix} \\cdot s_t + e_t $"
   ]
  },
  {
   "cell_type": "markdown",
   "metadata": {},
   "source": [
    "We can further combine the processes\n",
    "\n",
    "$\\begin{pmatrix} s_{t+1} \\\\ y_t \\end{pmatrix} = \\delta_t + \\Phi_t s_t + u_t$, \n",
    "\n",
    "where\n",
    "\n",
    "$\\delta_t = \\begin{pmatrix} 0 \\\\ 0 \\\\ 0 \\end{pmatrix}$, $\\Phi_t = \\begin{pmatrix} 1 & 0 \\\\ 0 & 1 \\\\ 1 & r_{M, t} \\end{pmatrix}$, $u_t = \\begin{pmatrix} \\eta_t \\\\ \\epsilon_t \\\\ e_t \\end{pmatrix}$"
   ]
  },
  {
   "cell_type": "markdown",
   "metadata": {},
   "source": [
    "## Representation in SymPy"
   ]
  },
  {
   "cell_type": "markdown",
   "metadata": {},
   "source": [
    "Initialize symbols"
   ]
  },
  {
   "cell_type": "code",
   "execution_count": 78,
   "metadata": {
    "ExecuteTime": {
     "end_time": "2020-02-10T22:54:44.600971Z",
     "start_time": "2020-02-10T22:54:44.569680Z"
    }
   },
   "outputs": [],
   "source": [
    "sigma_e_2, sigma_eta_2, sigma_epsilon_2, alpha, beta, r, r_M = \\\n",
    "    sym.symbols('sigma_e_2, sigma_eta_2, sigma_epsilon_2, alpha, beta, r, r_M')"
   ]
  },
  {
   "cell_type": "markdown",
   "metadata": {},
   "source": [
    "Model parameters to be estimated"
   ]
  },
  {
   "cell_type": "code",
   "execution_count": 79,
   "metadata": {
    "ExecuteTime": {
     "end_time": "2020-02-10T22:54:44.633522Z",
     "start_time": "2020-02-10T22:54:44.602250Z"
    }
   },
   "outputs": [],
   "source": [
    "parameter_symbols = (sigma_e_2, sigma_eta_2, sigma_epsilon_2)"
   ]
  },
  {
   "cell_type": "markdown",
   "metadata": {},
   "source": [
    "Define the state vector"
   ]
  },
  {
   "cell_type": "code",
   "execution_count": 80,
   "metadata": {
    "ExecuteTime": {
     "end_time": "2020-02-10T22:54:44.665921Z",
     "start_time": "2020-02-10T22:54:44.634847Z"
    }
   },
   "outputs": [],
   "source": [
    "state_vector_symbols = (alpha, beta)"
   ]
  },
  {
   "cell_type": "markdown",
   "metadata": {},
   "source": [
    "Define the vector of observations"
   ]
  },
  {
   "cell_type": "code",
   "execution_count": 81,
   "metadata": {
    "ExecuteTime": {
     "end_time": "2020-02-10T22:54:44.698314Z",
     "start_time": "2020-02-10T22:54:44.667189Z"
    }
   },
   "outputs": [],
   "source": [
    "observation_vector_symbols = (r, )"
   ]
  },
  {
   "cell_type": "markdown",
   "metadata": {},
   "source": [
    "Define mapping between data symbols and Pandas series/NumPy arrays"
   ]
  },
  {
   "cell_type": "code",
   "execution_count": 82,
   "metadata": {
    "ExecuteTime": {
     "end_time": "2020-02-10T22:54:44.731009Z",
     "start_time": "2020-02-10T22:54:44.699553Z"
    }
   },
   "outputs": [],
   "source": [
    "data_symbol_to_data_map = {r: restricted_joint_excess_returns['ford'], \n",
    "                           r_M: restricted_joint_excess_returns['gspc']}"
   ]
  },
  {
   "cell_type": "markdown",
   "metadata": {},
   "source": [
    "Set starting values for the maximum likelihood estimation via numerical optimization"
   ]
  },
  {
   "cell_type": "code",
   "execution_count": 83,
   "metadata": {
    "ExecuteTime": {
     "end_time": "2020-02-10T22:54:44.764082Z",
     "start_time": "2020-02-10T22:54:44.732296Z"
    }
   },
   "outputs": [],
   "source": [
    "ford_return_std = np.std(restricted_joint_excess_returns['ford'])\n",
    "parameter_symbols_to_start_parameters_map = {sigma_e_2: ford_return_std, \n",
    "                                             sigma_eta_2: ford_return_std,\n",
    "                                             sigma_epsilon_2: ford_return_std}"
   ]
  },
  {
   "cell_type": "markdown",
   "metadata": {},
   "source": [
    "Define transformation functions to ensure that the variance parameters remain positive (the optimizer is unconstrained)"
   ]
  },
  {
   "cell_type": "code",
   "execution_count": 84,
   "metadata": {
    "ExecuteTime": {
     "end_time": "2020-02-10T22:54:44.796994Z",
     "start_time": "2020-02-10T22:54:44.765400Z"
    }
   },
   "outputs": [],
   "source": [
    "# Using a vectorized transformation function (the same for all parameters)\n",
    "parameter_transformation = \\\n",
    "    LambdaParameterTransformation(transform_function=lambda x: x**2, \n",
    "                                  untransform_function=lambda x: x**0.5)\n",
    "\n",
    "# Using individual lower and upper bounds\n",
    "# parameter_transformation = \\\n",
    "#     RectangularParameterTransformation(parameter_symbols=parameter_symbols, \n",
    "#                                        parameter_symbol_to_bounds_map={sigma_e_2: (0, np.inf), \n",
    "#                                                                        sigma_eta_2: (0, np.inf), \n",
    "#                                                                        sigma_epsilon_2: (0, np.inf)})"
   ]
  },
  {
   "cell_type": "markdown",
   "metadata": {},
   "source": [
    "Construct transition matrix in SymPy"
   ]
  },
  {
   "cell_type": "code",
   "execution_count": 85,
   "metadata": {
    "ExecuteTime": {
     "end_time": "2020-02-10T22:54:44.831174Z",
     "start_time": "2020-02-10T22:54:44.798178Z"
    }
   },
   "outputs": [
    {
     "data": {
      "text/latex": [
       "$\\displaystyle \\left[\\begin{matrix}1 & 0\\\\0 & 1\\end{matrix}\\right]$"
      ],
      "text/plain": [
       "Matrix([\n",
       "[1, 0],\n",
       "[0, 1]])"
      ]
     },
     "execution_count": 85,
     "metadata": {},
     "output_type": "execute_result"
    },
    {
     "data": {
      "text/latex": [
       "$\\displaystyle \\left[\\begin{matrix}1 & 0\\\\0 & 1\\end{matrix}\\right]$"
      ],
      "text/plain": [
       "Matrix([\n",
       "[1, 0],\n",
       "[0, 1]])"
      ]
     },
     "execution_count": 85,
     "metadata": {},
     "output_type": "execute_result"
    }
   ],
   "source": [
    "transition_matrix = sym.eye(2)\n",
    "transition_matrix"
   ]
  },
  {
   "cell_type": "markdown",
   "metadata": {},
   "source": [
    "Construct design matrix in SymPy"
   ]
  },
  {
   "cell_type": "code",
   "execution_count": 86,
   "metadata": {
    "ExecuteTime": {
     "end_time": "2020-02-10T22:54:44.865151Z",
     "start_time": "2020-02-10T22:54:44.832475Z"
    }
   },
   "outputs": [
    {
     "data": {
      "text/latex": [
       "$\\displaystyle \\left[\\begin{matrix}1 & r_{M}\\end{matrix}\\right]$"
      ],
      "text/plain": [
       "Matrix([[1, r_M]])"
      ]
     },
     "execution_count": 86,
     "metadata": {},
     "output_type": "execute_result"
    },
    {
     "data": {
      "text/latex": [
       "$\\displaystyle \\left[\\begin{matrix}1 & r_{M}\\end{matrix}\\right]$"
      ],
      "text/plain": [
       "Matrix([[1, r_M]])"
      ]
     },
     "execution_count": 86,
     "metadata": {},
     "output_type": "execute_result"
    }
   ],
   "source": [
    "design_matrix = sym.Matrix([[1, r_M]])\n",
    "design_matrix"
   ]
  },
  {
   "cell_type": "markdown",
   "metadata": {},
   "source": [
    "Construct selection matrix in SymPy"
   ]
  },
  {
   "cell_type": "code",
   "execution_count": 87,
   "metadata": {
    "ExecuteTime": {
     "end_time": "2020-02-10T22:54:44.900182Z",
     "start_time": "2020-02-10T22:54:44.866469Z"
    }
   },
   "outputs": [
    {
     "data": {
      "text/latex": [
       "$\\displaystyle \\left[\\begin{matrix}1 & 0\\\\0 & 1\\end{matrix}\\right]$"
      ],
      "text/plain": [
       "Matrix([\n",
       "[1, 0],\n",
       "[0, 1]])"
      ]
     },
     "execution_count": 87,
     "metadata": {},
     "output_type": "execute_result"
    },
    {
     "data": {
      "text/latex": [
       "$\\displaystyle \\left[\\begin{matrix}1 & 0\\\\0 & 1\\end{matrix}\\right]$"
      ],
      "text/plain": [
       "Matrix([\n",
       "[1, 0],\n",
       "[0, 1]])"
      ]
     },
     "execution_count": 87,
     "metadata": {},
     "output_type": "execute_result"
    }
   ],
   "source": [
    "selection_matrix = sym.eye(2)\n",
    "selection_matrix"
   ]
  },
  {
   "cell_type": "markdown",
   "metadata": {},
   "source": [
    "Construct state covariance matrix matrix in SymPy"
   ]
  },
  {
   "cell_type": "code",
   "execution_count": 88,
   "metadata": {
    "ExecuteTime": {
     "end_time": "2020-02-10T22:54:44.938823Z",
     "start_time": "2020-02-10T22:54:44.901525Z"
    }
   },
   "outputs": [
    {
     "data": {
      "text/latex": [
       "$\\displaystyle \\left[\\begin{matrix}\\sigma_{\\eta 2} & 0\\\\0 & \\sigma_{\\epsilon 2}\\end{matrix}\\right]$"
      ],
      "text/plain": [
       "Matrix([\n",
       "[sigma_eta_2,               0],\n",
       "[          0, sigma_epsilon_2]])"
      ]
     },
     "execution_count": 88,
     "metadata": {},
     "output_type": "execute_result"
    },
    {
     "data": {
      "text/latex": [
       "$\\displaystyle \\left[\\begin{matrix}\\sigma_{\\eta 2} & 0\\\\0 & \\sigma_{\\epsilon 2}\\end{matrix}\\right]$"
      ],
      "text/plain": [
       "Matrix([\n",
       "[sigma_eta_2,               0],\n",
       "[          0, sigma_epsilon_2]])"
      ]
     },
     "execution_count": 88,
     "metadata": {},
     "output_type": "execute_result"
    }
   ],
   "source": [
    "state_covariance_matrix = sym.diagonalize_vector(sym.Matrix([sigma_eta_2, sigma_epsilon_2]))\n",
    "state_covariance_matrix"
   ]
  },
  {
   "cell_type": "markdown",
   "metadata": {
    "ExecuteTime": {
     "end_time": "2020-02-10T06:22:31.756677Z",
     "start_time": "2020-02-10T06:22:31.719914Z"
    }
   },
   "source": [
    "Construct observation covariance matrix matrix in SymPy"
   ]
  },
  {
   "cell_type": "code",
   "execution_count": 89,
   "metadata": {
    "ExecuteTime": {
     "end_time": "2020-02-10T22:54:44.971768Z",
     "start_time": "2020-02-10T22:54:44.940038Z"
    }
   },
   "outputs": [],
   "source": [
    "observation_covariance_matrix = sym.Matrix([[sigma_e_2]])"
   ]
  },
  {
   "cell_type": "markdown",
   "metadata": {},
   "source": [
    "Compile numeric state space representation for MLE from the symbolic definition"
   ]
  },
  {
   "cell_type": "code",
   "execution_count": 90,
   "metadata": {
    "ExecuteTime": {
     "end_time": "2020-02-10T22:54:45.016096Z",
     "start_time": "2020-02-10T22:54:44.973156Z"
    }
   },
   "outputs": [],
   "source": [
    "conditional_factor_model = \\\n",
    "    SymbolicStateSpaceModelViaMaximumLikelihood(parameter_symbols=parameter_symbols, \n",
    "                                                state_vector_symbols=state_vector_symbols, \n",
    "                                                observation_vector_symbols=observation_vector_symbols, \n",
    "                                                data_symbol_to_data_map=data_symbol_to_data_map, \n",
    "                                                parameter_symbols_to_start_parameters_map=parameter_symbols_to_start_parameters_map, \n",
    "                                                parameter_transformation=parameter_transformation, \n",
    "                                                design_matrix=design_matrix, \n",
    "                                                observation_covariance_matrix=observation_covariance_matrix, \n",
    "                                                selection_matrix=selection_matrix, \n",
    "                                                state_covariance_matrix=state_covariance_matrix, \n",
    "                                                transition_matrix=transition_matrix)"
   ]
  },
  {
   "cell_type": "markdown",
   "metadata": {},
   "source": [
    "# Estimation"
   ]
  },
  {
   "cell_type": "markdown",
   "metadata": {},
   "source": [
    "Fit the model using MLE (recall that we are fitting the three variance parameters)"
   ]
  },
  {
   "cell_type": "code",
   "execution_count": 91,
   "metadata": {
    "ExecuteTime": {
     "end_time": "2020-02-10T22:54:45.185587Z",
     "start_time": "2020-02-10T22:54:45.017344Z"
    }
   },
   "outputs": [],
   "source": [
    "res = conditional_factor_model.fit(disp=False)"
   ]
  },
  {
   "cell_type": "markdown",
   "metadata": {},
   "source": [
    "## Estimates"
   ]
  },
  {
   "cell_type": "code",
   "execution_count": 92,
   "metadata": {
    "ExecuteTime": {
     "end_time": "2020-02-10T22:54:45.222219Z",
     "start_time": "2020-02-10T22:54:45.186788Z"
    }
   },
   "outputs": [
    {
     "name": "stdout",
     "output_type": "stream",
     "text": [
      "                                        Statespace Model Results                                       \n",
      "=======================================================================================================\n",
      "Dep. Variable:                                               y   No. Observations:                  168\n",
      "Model:             SymbolicStateSpaceModelViaMaximumLikelihood   Log Likelihood                 148.798\n",
      "Date:                                         Mon, 10 Feb 2020   AIC                           -291.596\n",
      "Time:                                                 14:54:45   BIC                           -282.260\n",
      "Sample:                                                      0   HQIC                          -287.806\n",
      "                                                         - 168                                         \n",
      "Covariance Type:                                           opg                                         \n",
      "===================================================================================\n",
      "                      coef    std err          z      P>|z|      [0.025      0.975]\n",
      "-----------------------------------------------------------------------------------\n",
      "sigma_e_2           0.0086      0.001     11.472      0.000       0.007       0.010\n",
      "sigma_eta_2      5.765e-06   8.59e-06      0.671      0.502   -1.11e-05    2.26e-05\n",
      "sigma_epsilon_2     0.0142      0.020      0.699      0.485      -0.026       0.054\n",
      "===================================================================================\n",
      "Ljung-Box (Q):                       42.50   Jarque-Bera (JB):                38.55\n",
      "Prob(Q):                              0.36   Prob(JB):                         0.00\n",
      "Heteroskedasticity (H):               1.09   Skew:                             0.73\n",
      "Prob(H) (two-sided):                  0.76   Kurtosis:                         4.86\n",
      "===================================================================================\n",
      "\n",
      "Warnings:\n",
      "[1] Covariance matrix calculated using the outer product of gradients (complex-step).\n",
      "                                        Statespace Model Results                                       \n",
      "=======================================================================================================\n",
      "Dep. Variable:                                               y   No. Observations:                  168\n",
      "Model:             SymbolicStateSpaceModelViaMaximumLikelihood   Log Likelihood                 148.798\n",
      "Date:                                         Mon, 10 Feb 2020   AIC                           -291.596\n",
      "Time:                                                 14:54:45   BIC                           -282.260\n",
      "Sample:                                                      0   HQIC                          -287.806\n",
      "                                                         - 168                                         \n",
      "Covariance Type:                                           opg                                         \n",
      "===================================================================================\n",
      "                      coef    std err          z      P>|z|      [0.025      0.975]\n",
      "-----------------------------------------------------------------------------------\n",
      "sigma_e_2           0.0086      0.001     11.472      0.000       0.007       0.010\n",
      "sigma_eta_2      5.765e-06   8.59e-06      0.671      0.502   -1.11e-05    2.26e-05\n",
      "sigma_epsilon_2     0.0142      0.020      0.699      0.485      -0.026       0.054\n",
      "===================================================================================\n",
      "Ljung-Box (Q):                       42.50   Jarque-Bera (JB):                38.55\n",
      "Prob(Q):                              0.36   Prob(JB):                         0.00\n",
      "Heteroskedasticity (H):               1.09   Skew:                             0.73\n",
      "Prob(H) (two-sided):                  0.76   Kurtosis:                         4.86\n",
      "===================================================================================\n",
      "\n",
      "Warnings:\n",
      "[1] Covariance matrix calculated using the outer product of gradients (complex-step).\n"
     ]
    }
   ],
   "source": [
    "print(res.summary())"
   ]
  },
  {
   "cell_type": "markdown",
   "metadata": {},
   "source": [
    "## Filtered and Smoothed State"
   ]
  },
  {
   "cell_type": "markdown",
   "metadata": {},
   "source": [
    "Filtered $\\alpha$"
   ]
  },
  {
   "cell_type": "code",
   "execution_count": 93,
   "metadata": {
    "ExecuteTime": {
     "end_time": "2020-02-10T22:54:45.347089Z",
     "start_time": "2020-02-10T22:54:45.223477Z"
    }
   },
   "outputs": [
    {
     "data": {
      "image/png": "[encoded data removed]",
      "text/plain": [
       "<Figure size 432x288 with 1 Axes>"
      ]
     },
     "metadata": {
      "needs_background": "light"
     },
     "output_type": "display_data"
    },
    {
     "data": {
      "image/png": "[encoded data removed]",
      "text/plain": [
       "<Figure size 432x288 with 1 Axes>"
      ]
     },
     "metadata": {
      "needs_background": "light"
     },
     "output_type": "display_data"
    }
   ],
   "source": [
    "plt.plot(restricted_joint_excess_returns.index, res.filtered_state[0, :]);"
   ]
  },
  {
   "cell_type": "markdown",
   "metadata": {},
   "source": [
    "Smoothed $\\alpha$"
   ]
  },
  {
   "cell_type": "code",
   "execution_count": 94,
   "metadata": {
    "ExecuteTime": {
     "end_time": "2020-02-10T22:54:45.469790Z",
     "start_time": "2020-02-10T22:54:45.348592Z"
    }
   },
   "outputs": [
    {
     "data": {
      "image/png": "[encoded data removed]",
      "text/plain": [
       "<Figure size 432x288 with 1 Axes>"
      ]
     },
     "metadata": {
      "needs_background": "light"
     },
     "output_type": "display_data"
    },
    {
     "data": {
      "image/png": "[encoded data removed]",
      "text/plain": [
       "<Figure size 432x288 with 1 Axes>"
      ]
     },
     "metadata": {
      "needs_background": "light"
     },
     "output_type": "display_data"
    }
   ],
   "source": [
    "plt.plot(restricted_joint_excess_returns.index, res.smoothed_state[0, :]);"
   ]
  },
  {
   "cell_type": "markdown",
   "metadata": {},
   "source": [
    "Filtered $\\beta$"
   ]
  },
  {
   "cell_type": "code",
   "execution_count": 95,
   "metadata": {
    "ExecuteTime": {
     "end_time": "2020-02-10T22:54:45.591979Z",
     "start_time": "2020-02-10T22:54:45.471421Z"
    }
   },
   "outputs": [
    {
     "data": {
      "image/png": "[encoded data removed]",
      "text/plain": [
       "<Figure size 432x288 with 1 Axes>"
      ]
     },
     "metadata": {
      "needs_background": "light"
     },
     "output_type": "display_data"
    },
    {
     "data": {
      "image/png": "[encoded data removed]",
      "text/plain": [
       "<Figure size 432x288 with 1 Axes>"
      ]
     },
     "metadata": {
      "needs_background": "light"
     },
     "output_type": "display_data"
    }
   ],
   "source": [
    "plt.plot(restricted_joint_excess_returns.index, res.filtered_state[1, :]);"
   ]
  },
  {
   "cell_type": "markdown",
   "metadata": {},
   "source": [
    "Smoothed $\\beta$"
   ]
  },
  {
   "cell_type": "code",
   "execution_count": 96,
   "metadata": {
    "ExecuteTime": {
     "end_time": "2020-02-10T22:54:45.724169Z",
     "start_time": "2020-02-10T22:54:45.593478Z"
    }
   },
   "outputs": [
    {
     "data": {
      "image/png": "[encoded data removed]",
      "text/plain": [
       "<Figure size 432x288 with 1 Axes>"
      ]
     },
     "metadata": {
      "needs_background": "light"
     },
     "output_type": "display_data"
    },
    {
     "data": {
      "image/png": "[encoded data removed]",
      "text/plain": [
       "<Figure size 432x288 with 1 Axes>"
      ]
     },
     "metadata": {
      "needs_background": "light"
     },
     "output_type": "display_data"
    }
   ],
   "source": [
    "plt.plot(restricted_joint_excess_returns.index, res.smoothed_state[1, :]);"
   ]
  },
  {
   "cell_type": "code",
   "execution_count": null,
   "metadata": {},
   "outputs": [],
   "source": []
  }
 ],
 "metadata": {
  "kernelspec": {
   "display_name": "Python 3",
   "language": "python",
   "name": "python3"
  },
  "language_info": {
   "codemirror_mode": {
    "name": "ipython",
    "version": 3
   },
   "file_extension": ".py",
   "mimetype": "text/x-python",
   "name": "python",
   "nbconvert_exporter": "python",
   "pygments_lexer": "ipython3",
   "version": "3.7.6"
  },
  "toc": {
   "base_numbering": 1,
   "nav_menu": {},
   "number_sections": true,
   "sideBar": true,
   "skip_h1_title": false,
   "title_cell": "Table of Contents",
   "title_sidebar": "Contents",
   "toc_cell": false,
   "toc_position": {},
   "toc_section_display": true,
   "toc_window_display": false
  }
 },
 "nbformat": 4,
 "nbformat_minor": 2
}
