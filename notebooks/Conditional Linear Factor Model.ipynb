{
 "cells": [
  {
   "cell_type": "markdown",
   "metadata": {},
   "source": [
    "# Import Packages"
   ]
  },
  {
   "cell_type": "code",
   "execution_count": 1,
   "metadata": {
    "ExecuteTime": {
     "end_time": "2021-04-14T23:44:10.249721Z",
     "start_time": "2021-04-14T23:44:10.228793Z"
    }
   },
   "outputs": [],
   "source": [
    "%load_ext autoreload\n",
    "%autoreload 2"
   ]
  },
  {
   "cell_type": "code",
   "execution_count": 2,
   "metadata": {
    "ExecuteTime": {
     "end_time": "2021-04-14T23:44:14.530217Z",
     "start_time": "2021-04-14T23:44:10.251846Z"
    }
   },
   "outputs": [
    {
     "name": "stderr",
     "output_type": "stream",
     "text": [
      "\n",
      "Bad key \"text.kerning_factor\" on line 4 in\n",
      "/Users/michaelnowotny/anaconda3/envs/continuous_time_mcmc/lib/python3.7/site-packages/matplotlib/mpl-data/stylelib/_classic_test_patch.mplstyle.\n",
      "You probably need to get an updated matplotlibrc file from\n",
      "https://github.com/matplotlib/matplotlib/blob/v3.1.3/matplotlibrc.template\n",
      "or from the matplotlib source distribution\n"
     ]
    }
   ],
   "source": [
    "%matplotlib inline\n",
    "\n",
    "import matplotlib.pyplot as plt\n",
    "import numpy as np\n",
    "import os\n",
    "import pandas as pd\n",
    "import sympy as sym\n",
    "import statsmodels.api as sm\n",
    "import typing as tp"
   ]
  },
  {
   "cell_type": "code",
   "execution_count": 3,
   "metadata": {
    "ExecuteTime": {
     "end_time": "2021-04-14T23:44:14.585522Z",
     "start_time": "2021-04-14T23:44:14.532535Z"
    }
   },
   "outputs": [],
   "source": [
    "from state_space.data_reader import (\n",
    "    load_monthly_and_annual_ff_factors, \n",
    "    compute_monthly_returns\n",
    ")"
   ]
  },
  {
   "cell_type": "code",
   "execution_count": 4,
   "metadata": {
    "ExecuteTime": {
     "end_time": "2021-04-14T23:44:14.631777Z",
     "start_time": "2021-04-14T23:44:14.587879Z"
    }
   },
   "outputs": [],
   "source": [
    "from state_space import (\n",
    "    SymbolicStateSpaceModelViaMaximumLikelihood, \n",
    "    LambdaParameterTransformation, \n",
    "    RectangularParameterTransformation, \n",
    "    linearize_vector_valued_state_function\n",
    ")"
   ]
  },
  {
   "cell_type": "markdown",
   "metadata": {},
   "source": [
    "# Load Data"
   ]
  },
  {
   "cell_type": "code",
   "execution_count": 5,
   "metadata": {
    "ExecuteTime": {
     "end_time": "2021-04-14T23:44:14.675691Z",
     "start_time": "2021-04-14T23:44:14.633456Z"
    }
   },
   "outputs": [],
   "source": [
    "data_directory_name = 'data'\n",
    "ford_data_filename = os.path.join(data_directory_name, 'F_monthly.csv')\n",
    "gspc_data_filename = os.path.join(data_directory_name, '^GSPC_monthly.csv')\n",
    "ff_data_filename = os.path.join(data_directory_name, 'F-F_Research_Data_Factors_monthly.CSV')"
   ]
  },
  {
   "cell_type": "code",
   "execution_count": 6,
   "metadata": {
    "ExecuteTime": {
     "end_time": "2021-04-14T23:44:14.726644Z",
     "start_time": "2021-04-14T23:44:14.677365Z"
    }
   },
   "outputs": [],
   "source": [
    "ford_prices = pd.read_csv(ford_data_filename).set_index('Date')\n",
    "gspc_prices = pd.read_csv(gspc_data_filename).set_index('Date')"
   ]
  },
  {
   "cell_type": "markdown",
   "metadata": {},
   "source": [
    "Load Fama-French factors"
   ]
  },
  {
   "cell_type": "code",
   "execution_count": 7,
   "metadata": {
    "ExecuteTime": {
     "end_time": "2021-04-14T23:44:14.804136Z",
     "start_time": "2021-04-14T23:44:14.728204Z"
    }
   },
   "outputs": [],
   "source": [
    "ff_monthly, ff_annual = load_monthly_and_annual_ff_factors(ff_data_filename)"
   ]
  },
  {
   "cell_type": "markdown",
   "metadata": {},
   "source": [
    "# Prepare Data"
   ]
  },
  {
   "cell_type": "markdown",
   "metadata": {},
   "source": [
    "Compute Ford returns"
   ]
  },
  {
   "cell_type": "code",
   "execution_count": 8,
   "metadata": {
    "ExecuteTime": {
     "end_time": "2021-04-14T23:44:14.853752Z",
     "start_time": "2021-04-14T23:44:14.807603Z"
    }
   },
   "outputs": [],
   "source": [
    "ford_returns = compute_monthly_returns(ford_prices, name='ford')"
   ]
  },
  {
   "cell_type": "markdown",
   "metadata": {},
   "source": [
    "Compute S&P 500 index returns"
   ]
  },
  {
   "cell_type": "code",
   "execution_count": 9,
   "metadata": {
    "ExecuteTime": {
     "end_time": "2021-04-14T23:44:14.904264Z",
     "start_time": "2021-04-14T23:44:14.856553Z"
    }
   },
   "outputs": [],
   "source": [
    "gspc_returns = compute_monthly_returns(gspc_prices, name='gspc')"
   ]
  },
  {
   "cell_type": "markdown",
   "metadata": {},
   "source": [
    "Compute excess returns on both"
   ]
  },
  {
   "cell_type": "code",
   "execution_count": 10,
   "metadata": {
    "ExecuteTime": {
     "end_time": "2021-04-14T23:44:14.952313Z",
     "start_time": "2021-04-14T23:44:14.906027Z"
    }
   },
   "outputs": [],
   "source": [
    "gspc_excess_returns = gspc_returns - ff_monthly['RF']\n",
    "ford_excess_returns = ford_returns - ff_monthly['RF']"
   ]
  },
  {
   "cell_type": "markdown",
   "metadata": {},
   "source": [
    "Put Ford and S&P 500 returns in a single dataframe"
   ]
  },
  {
   "cell_type": "code",
   "execution_count": 11,
   "metadata": {
    "ExecuteTime": {
     "end_time": "2021-04-14T23:44:15.005649Z",
     "start_time": "2021-04-14T23:44:14.954031Z"
    }
   },
   "outputs": [],
   "source": [
    "joint_returns = pd.DataFrame({'ford': ford_returns, 'gspc': gspc_returns, 'rf': ff_monthly['RF']}).dropna()"
   ]
  },
  {
   "cell_type": "code",
   "execution_count": 12,
   "metadata": {
    "ExecuteTime": {
     "end_time": "2021-04-14T23:44:15.058194Z",
     "start_time": "2021-04-14T23:44:15.007265Z"
    }
   },
   "outputs": [],
   "source": [
    "joint_excess_returns = pd.DataFrame({'ford': ford_excess_returns, 'gspc': gspc_excess_returns}).dropna()"
   ]
  },
  {
   "cell_type": "markdown",
   "metadata": {},
   "source": [
    "Restrict the time horizon from 1990 to 2004"
   ]
  },
  {
   "cell_type": "code",
   "execution_count": 13,
   "metadata": {
    "ExecuteTime": {
     "end_time": "2021-04-14T23:44:15.112480Z",
     "start_time": "2021-04-14T23:44:15.060289Z"
    }
   },
   "outputs": [],
   "source": [
    "restricted_joint_excess_returns = joint_excess_returns.query('Date >= 1990 and Date < 2004')"
   ]
  },
  {
   "cell_type": "markdown",
   "metadata": {},
   "source": [
    "# Conditional Factor Model and State-Space Representation"
   ]
  },
  {
   "cell_type": "markdown",
   "metadata": {},
   "source": [
    "## Stochastic Process Model"
   ]
  },
  {
   "cell_type": "markdown",
   "metadata": {},
   "source": [
    "Consider a univariate linear factor model with time-varying coefficients, where the factor is the return on an equity index. This model can be written as\n",
    "\n",
    "$r_t = \\alpha_t + \\beta_t r_{M, t} + e_t$\n",
    "\n",
    "$\\alpha_{t+1} = \\alpha_t + \\eta_t$\n",
    "\n",
    "$\\beta_{t+1} = \\beta_t + \\epsilon_t$\n",
    "\n",
    "where $r_t$ is the excess return of the stock over period $t$ and $r_{M, t}$ is the excess return of the market over period $t$. The innovations $e$, $\\eta$, and $\\epsilon$ are both serially and mutually independent and distributed as follows:\n",
    "\n",
    "$e_t \\sim N(0, \\sigma^2_e)$\n",
    "\n",
    "$\\eta_t \\sim N(0, \\sigma^2_{\\eta})$\n",
    "\n",
    "$\\epsilon_t \\sim N(0, \\sigma^2_{\\epsilon})$"
   ]
  },
  {
   "cell_type": "markdown",
   "metadata": {},
   "source": [
    "## State Space Representation"
   ]
  },
  {
   "cell_type": "markdown",
   "metadata": {},
   "source": [
    "This model can be represented in statespace form as:\n",
    "\n",
    "$s_t = \\begin{pmatrix} \\alpha_t \\\\ \\beta_t \\end{pmatrix}$ (state), \n",
    "\n",
    "$y_t = r_t$ (observation)\n",
    "\n",
    "$s_{t+1} = \\begin{pmatrix} 1 & 0 \\\\ 0 & 1 \\end{pmatrix} \\cdot s_t + \\begin{pmatrix} \\eta_t \\\\ \\epsilon_t \\end{pmatrix}$\n",
    "\n",
    "$y_t = \\begin{pmatrix} 1 & r_{M, t} \\end{pmatrix} \\cdot s_t + e_t $"
   ]
  },
  {
   "cell_type": "markdown",
   "metadata": {},
   "source": [
    "We can further combine the processes\n",
    "\n",
    "$\\begin{pmatrix} s_{t+1} \\\\ y_t \\end{pmatrix} = \\delta_t + \\Phi_t s_t + u_t$, \n",
    "\n",
    "where\n",
    "\n",
    "$\\delta_t = \\begin{pmatrix} 0 \\\\ 0 \\\\ 0 \\end{pmatrix}$, $\\Phi_t = \\begin{pmatrix} 1 & 0 \\\\ 0 & 1 \\\\ 1 & r_{M, t} \\end{pmatrix}$, $u_t = \\begin{pmatrix} \\eta_t \\\\ \\epsilon_t \\\\ e_t \\end{pmatrix}$"
   ]
  },
  {
   "cell_type": "markdown",
   "metadata": {},
   "source": [
    "## Representation in SymPy"
   ]
  },
  {
   "cell_type": "markdown",
   "metadata": {},
   "source": [
    "Initialize symbols"
   ]
  },
  {
   "cell_type": "code",
   "execution_count": 14,
   "metadata": {
    "ExecuteTime": {
     "end_time": "2021-04-14T23:44:15.158566Z",
     "start_time": "2021-04-14T23:44:15.114390Z"
    }
   },
   "outputs": [],
   "source": [
    "sigma_e, sigma_eta, sigma_epsilon, alpha, beta, r, r_M = \\\n",
    "    sym.symbols('sigma_e, sigma_eta, sigma_epsilon, alpha, beta, r, r_M')"
   ]
  },
  {
   "cell_type": "markdown",
   "metadata": {},
   "source": [
    "Model parameters to be estimated"
   ]
  },
  {
   "cell_type": "code",
   "execution_count": 15,
   "metadata": {
    "ExecuteTime": {
     "end_time": "2021-04-14T23:44:15.205167Z",
     "start_time": "2021-04-14T23:44:15.160448Z"
    }
   },
   "outputs": [],
   "source": [
    "parameter_symbols = (sigma_e, sigma_eta, sigma_epsilon)"
   ]
  },
  {
   "cell_type": "markdown",
   "metadata": {},
   "source": [
    "Define the state vector"
   ]
  },
  {
   "cell_type": "code",
   "execution_count": 16,
   "metadata": {
    "ExecuteTime": {
     "end_time": "2021-04-14T23:44:15.257124Z",
     "start_time": "2021-04-14T23:44:15.207129Z"
    }
   },
   "outputs": [],
   "source": [
    "state_vector_symbols = (alpha, beta)"
   ]
  },
  {
   "cell_type": "markdown",
   "metadata": {},
   "source": [
    "Define the vector of observations"
   ]
  },
  {
   "cell_type": "code",
   "execution_count": 17,
   "metadata": {
    "ExecuteTime": {
     "end_time": "2021-04-14T23:44:15.313680Z",
     "start_time": "2021-04-14T23:44:15.259477Z"
    }
   },
   "outputs": [],
   "source": [
    "observation_vector_symbols = (r, )"
   ]
  },
  {
   "cell_type": "markdown",
   "metadata": {},
   "source": [
    "Define mapping between data symbols and Pandas series/NumPy arrays"
   ]
  },
  {
   "cell_type": "code",
   "execution_count": 18,
   "metadata": {
    "ExecuteTime": {
     "end_time": "2021-04-14T23:44:15.362390Z",
     "start_time": "2021-04-14T23:44:15.315595Z"
    }
   },
   "outputs": [],
   "source": [
    "data_symbol_to_data_map = {r: restricted_joint_excess_returns['ford'], \n",
    "                           r_M: restricted_joint_excess_returns['gspc']}"
   ]
  },
  {
   "cell_type": "markdown",
   "metadata": {},
   "source": [
    "Set starting values for the maximum likelihood estimation via numerical optimization"
   ]
  },
  {
   "cell_type": "code",
   "execution_count": 19,
   "metadata": {
    "ExecuteTime": {
     "end_time": "2021-04-14T23:44:15.407767Z",
     "start_time": "2021-04-14T23:44:15.364220Z"
    }
   },
   "outputs": [],
   "source": [
    "ford_return_std = np.std(restricted_joint_excess_returns['ford'])\n",
    "parameter_symbols_to_start_parameters_map = {sigma_e: ford_return_std, \n",
    "                                             sigma_eta: ford_return_std,\n",
    "                                             sigma_epsilon: ford_return_std}"
   ]
  },
  {
   "cell_type": "markdown",
   "metadata": {},
   "source": [
    "Define transformation functions to ensure that the variance parameters remain positive (the optimizer is unconstrained)"
   ]
  },
  {
   "cell_type": "markdown",
   "metadata": {},
   "source": [
    "Option A: Using a vectorized transformation function (the same for all parameters)"
   ]
  },
  {
   "cell_type": "code",
   "execution_count": 20,
   "metadata": {
    "ExecuteTime": {
     "end_time": "2021-04-14T23:44:15.453458Z",
     "start_time": "2021-04-14T23:44:15.409614Z"
    }
   },
   "outputs": [],
   "source": [
    "parameter_transformation = \\\n",
    "    LambdaParameterTransformation(transform_function=lambda x: x**2, \n",
    "                                  untransform_function=lambda x: x**0.5)"
   ]
  },
  {
   "cell_type": "markdown",
   "metadata": {},
   "source": [
    "Option B: Using individual lower and upper bounds"
   ]
  },
  {
   "cell_type": "code",
   "execution_count": 21,
   "metadata": {
    "ExecuteTime": {
     "end_time": "2021-04-14T23:44:15.497650Z",
     "start_time": "2021-04-14T23:44:15.455348Z"
    }
   },
   "outputs": [],
   "source": [
    "# parameter_transformation = \\\n",
    "#     RectangularParameterTransformation(parameter_symbols=parameter_symbols, \n",
    "#                                        parameter_symbol_to_bounds_map={sigma_e: (0, np.inf), \n",
    "#                                                                        sigma_eta: (0, np.inf), \n",
    "#                                                                        sigma_epsilon: (0, np.inf)})"
   ]
  },
  {
   "cell_type": "markdown",
   "metadata": {},
   "source": [
    "Construct transition matrix in SymPy"
   ]
  },
  {
   "cell_type": "code",
   "execution_count": 22,
   "metadata": {
    "ExecuteTime": {
     "end_time": "2021-04-14T23:44:15.545587Z",
     "start_time": "2021-04-14T23:44:15.499620Z"
    }
   },
   "outputs": [
    {
     "data": {
      "text/latex": [
       "$\\displaystyle \\left[\\begin{matrix}1 & 0\\\\0 & 1\\end{matrix}\\right]$"
      ],
      "text/plain": [
       "Matrix([\n",
       "[1, 0],\n",
       "[0, 1]])"
      ]
     },
     "execution_count": 22,
     "metadata": {},
     "output_type": "execute_result"
    }
   ],
   "source": [
    "transition_matrix = sym.eye(2)\n",
    "transition_matrix"
   ]
  },
  {
   "cell_type": "markdown",
   "metadata": {},
   "source": [
    "Construct design matrix in SymPy"
   ]
  },
  {
   "cell_type": "code",
   "execution_count": 23,
   "metadata": {
    "ExecuteTime": {
     "end_time": "2021-04-14T23:44:15.600485Z",
     "start_time": "2021-04-14T23:44:15.551234Z"
    }
   },
   "outputs": [
    {
     "data": {
      "text/latex": [
       "$\\displaystyle \\left[\\begin{matrix}1 & r_{M}\\end{matrix}\\right]$"
      ],
      "text/plain": [
       "Matrix([[1, r_M]])"
      ]
     },
     "execution_count": 23,
     "metadata": {},
     "output_type": "execute_result"
    }
   ],
   "source": [
    "design_matrix = sym.Matrix([[1, r_M]])\n",
    "design_matrix"
   ]
  },
  {
   "cell_type": "markdown",
   "metadata": {},
   "source": [
    "We can alternatively express the transition and observation functions as a vector valued functions of state variables and linearize the function. For non-linear transition and observation functions this leads in the extended Kalman filter (EKF)."
   ]
  },
  {
   "cell_type": "code",
   "execution_count": 24,
   "metadata": {
    "ExecuteTime": {
     "end_time": "2021-04-14T23:44:15.702351Z",
     "start_time": "2021-04-14T23:44:15.602979Z"
    }
   },
   "outputs": [],
   "source": [
    "f = sym.Matrix([[alpha], [beta]])\n",
    "g = sym.Matrix([[alpha + beta * r_M]])"
   ]
  },
  {
   "cell_type": "code",
   "execution_count": 25,
   "metadata": {
    "ExecuteTime": {
     "end_time": "2021-04-14T23:44:15.752441Z",
     "start_time": "2021-04-14T23:44:15.704415Z"
    }
   },
   "outputs": [
    {
     "name": "stdout",
     "output_type": "stream",
     "text": [
      "Matrix([[0], [0]])\n",
      "Matrix([[1, 0], [0, 1]])\n"
     ]
    }
   ],
   "source": [
    "state_intercept_vector_ekf, transition_matrix_ekf = \\\n",
    "    linearize_vector_valued_state_function(f, state_vector_symbols=state_vector_symbols)\n",
    "print(state_intercept_vector_ekf)\n",
    "print(transition_matrix_ekf)"
   ]
  },
  {
   "cell_type": "code",
   "execution_count": 26,
   "metadata": {
    "ExecuteTime": {
     "end_time": "2021-04-14T23:44:15.807713Z",
     "start_time": "2021-04-14T23:44:15.754244Z"
    }
   },
   "outputs": [
    {
     "name": "stdout",
     "output_type": "stream",
     "text": [
      "Matrix([[0]])\n",
      "Matrix([[1, r_M]])\n"
     ]
    }
   ],
   "source": [
    "observation_intercept_vector_ekf, design_matrix_ekf = \\\n",
    "    linearize_vector_valued_state_function(g, state_vector_symbols=state_vector_symbols)\n",
    "print(observation_intercept_vector_ekf)\n",
    "print(design_matrix_ekf)"
   ]
  },
  {
   "cell_type": "markdown",
   "metadata": {},
   "source": [
    "Construct selection matrix in SymPy"
   ]
  },
  {
   "cell_type": "code",
   "execution_count": 27,
   "metadata": {
    "ExecuteTime": {
     "end_time": "2021-04-14T23:44:15.859509Z",
     "start_time": "2021-04-14T23:44:15.809704Z"
    }
   },
   "outputs": [
    {
     "data": {
      "text/latex": [
       "$\\displaystyle \\left[\\begin{matrix}1 & 0\\\\0 & 1\\end{matrix}\\right]$"
      ],
      "text/plain": [
       "Matrix([\n",
       "[1, 0],\n",
       "[0, 1]])"
      ]
     },
     "execution_count": 27,
     "metadata": {},
     "output_type": "execute_result"
    }
   ],
   "source": [
    "selection_matrix = sym.eye(2)\n",
    "selection_matrix"
   ]
  },
  {
   "cell_type": "markdown",
   "metadata": {},
   "source": [
    "Construct state covariance matrix matrix in SymPy"
   ]
  },
  {
   "cell_type": "code",
   "execution_count": 28,
   "metadata": {
    "ExecuteTime": {
     "end_time": "2021-04-14T23:44:15.929089Z",
     "start_time": "2021-04-14T23:44:15.861681Z"
    }
   },
   "outputs": [
    {
     "data": {
      "text/latex": [
       "$\\displaystyle \\left[\\begin{matrix}\\sigma_{\\eta}^{2} & 0\\\\0 & \\sigma_{\\epsilon}^{2}\\end{matrix}\\right]$"
      ],
      "text/plain": [
       "Matrix([\n",
       "[sigma_eta**2,                0],\n",
       "[           0, sigma_epsilon**2]])"
      ]
     },
     "execution_count": 28,
     "metadata": {},
     "output_type": "execute_result"
    }
   ],
   "source": [
    "state_covariance_matrix = sym.diagonalize_vector(sym.Matrix([sigma_eta**2, sigma_epsilon**2]))\n",
    "state_covariance_matrix"
   ]
  },
  {
   "cell_type": "markdown",
   "metadata": {
    "ExecuteTime": {
     "end_time": "2020-02-10T06:22:31.756677Z",
     "start_time": "2020-02-10T06:22:31.719914Z"
    }
   },
   "source": [
    "Construct observation covariance matrix matrix in SymPy"
   ]
  },
  {
   "cell_type": "code",
   "execution_count": 29,
   "metadata": {
    "ExecuteTime": {
     "end_time": "2021-04-14T23:44:15.977617Z",
     "start_time": "2021-04-14T23:44:15.931082Z"
    }
   },
   "outputs": [],
   "source": [
    "observation_covariance_matrix = sym.Matrix([[sigma_e**2]])"
   ]
  },
  {
   "cell_type": "markdown",
   "metadata": {},
   "source": [
    "Compile numeric state space representation for MLE from the symbolic definition"
   ]
  },
  {
   "cell_type": "code",
   "execution_count": 30,
   "metadata": {
    "ExecuteTime": {
     "end_time": "2021-04-14T23:44:16.036740Z",
     "start_time": "2021-04-14T23:44:15.979577Z"
    }
   },
   "outputs": [],
   "source": [
    "conditional_factor_model = \\\n",
    "    SymbolicStateSpaceModelViaMaximumLikelihood(parameter_symbols=parameter_symbols, \n",
    "                                                state_vector_symbols=state_vector_symbols, \n",
    "                                                observation_vector_symbols=observation_vector_symbols, \n",
    "                                                data_symbol_to_data_map=data_symbol_to_data_map, \n",
    "                                                parameter_symbols_to_start_parameters_map=parameter_symbols_to_start_parameters_map, \n",
    "                                                parameter_transformation=parameter_transformation, \n",
    "                                                design_matrix=design_matrix, \n",
    "                                                observation_covariance_matrix=observation_covariance_matrix, \n",
    "                                                selection_matrix=selection_matrix, \n",
    "                                                state_covariance_matrix=state_covariance_matrix, \n",
    "                                                transition_matrix=transition_matrix)"
   ]
  },
  {
   "cell_type": "markdown",
   "metadata": {},
   "source": [
    "# Estimation"
   ]
  },
  {
   "cell_type": "markdown",
   "metadata": {},
   "source": [
    "Fit the model using MLE (recall that we are fitting the three variance parameters)"
   ]
  },
  {
   "cell_type": "code",
   "execution_count": 31,
   "metadata": {
    "ExecuteTime": {
     "end_time": "2021-04-14T23:44:16.191476Z",
     "start_time": "2021-04-14T23:44:16.038628Z"
    }
   },
   "outputs": [],
   "source": [
    "res = conditional_factor_model.fit(disp=False)"
   ]
  },
  {
   "cell_type": "markdown",
   "metadata": {},
   "source": [
    "## Estimates"
   ]
  },
  {
   "cell_type": "code",
   "execution_count": 32,
   "metadata": {
    "ExecuteTime": {
     "end_time": "2021-04-14T23:44:16.245681Z",
     "start_time": "2021-04-14T23:44:16.193271Z"
    }
   },
   "outputs": [
    {
     "name": "stdout",
     "output_type": "stream",
     "text": [
      "                                        Statespace Model Results                                       \n",
      "=======================================================================================================\n",
      "Dep. Variable:                                               y   No. Observations:                  168\n",
      "Model:             SymbolicStateSpaceModelViaMaximumLikelihood   Log Likelihood                 148.798\n",
      "Date:                                         Wed, 14 Apr 2021   AIC                           -291.596\n",
      "Time:                                                 16:44:16   BIC                           -282.260\n",
      "Sample:                                                      0   HQIC                          -287.806\n",
      "                                                         - 168                                         \n",
      "Covariance Type:                                           opg                                         \n",
      "=================================================================================\n",
      "                    coef    std err          z      P>|z|      [0.025      0.975]\n",
      "---------------------------------------------------------------------------------\n",
      "sigma_e           0.0929      0.004     22.945      0.000       0.085       0.101\n",
      "sigma_eta         0.0024      0.002      1.342      0.179      -0.001       0.006\n",
      "sigma_epsilon     0.1192      0.085      1.398      0.162      -0.048       0.286\n",
      "===================================================================================\n",
      "Ljung-Box (Q):                       42.51   Jarque-Bera (JB):                38.55\n",
      "Prob(Q):                              0.36   Prob(JB):                         0.00\n",
      "Heteroskedasticity (H):               1.09   Skew:                             0.73\n",
      "Prob(H) (two-sided):                  0.76   Kurtosis:                         4.86\n",
      "===================================================================================\n",
      "\n",
      "Warnings:\n",
      "[1] Covariance matrix calculated using the outer product of gradients (complex-step).\n"
     ]
    }
   ],
   "source": [
    "print(res.summary())"
   ]
  },
  {
   "cell_type": "markdown",
   "metadata": {},
   "source": [
    "## Filtered and Smoothed State"
   ]
  },
  {
   "cell_type": "markdown",
   "metadata": {},
   "source": [
    "Filtered $\\alpha$"
   ]
  },
  {
   "cell_type": "code",
   "execution_count": 33,
   "metadata": {
    "ExecuteTime": {
     "end_time": "2021-04-14T23:44:16.428828Z",
     "start_time": "2021-04-14T23:44:16.247809Z"
    }
   },
   "outputs": [
    {
     "data": {
      "image/png": "[encoded data removed]",
      "text/plain": [
       "<Figure size 432x288 with 1 Axes>"
      ]
     },
     "metadata": {
      "needs_background": "light"
     },
     "output_type": "display_data"
    }
   ],
   "source": [
    "plt.plot(restricted_joint_excess_returns.index, res.filtered_state[0, :]);"
   ]
  },
  {
   "cell_type": "markdown",
   "metadata": {},
   "source": [
    "Smoothed $\\alpha$"
   ]
  },
  {
   "cell_type": "code",
   "execution_count": 34,
   "metadata": {
    "ExecuteTime": {
     "end_time": "2021-04-14T23:44:16.641371Z",
     "start_time": "2021-04-14T23:44:16.430852Z"
    }
   },
   "outputs": [
    {
     "data": {
      "image/png": "[encoded data removed]",
      "text/plain": [
       "<Figure size 432x288 with 1 Axes>"
      ]
     },
     "metadata": {
      "needs_background": "light"
     },
     "output_type": "display_data"
    }
   ],
   "source": [
    "plt.plot(restricted_joint_excess_returns.index, res.smoothed_state[0, :]);"
   ]
  },
  {
   "cell_type": "markdown",
   "metadata": {},
   "source": [
    "Filtered $\\beta$"
   ]
  },
  {
   "cell_type": "code",
   "execution_count": 35,
   "metadata": {
    "ExecuteTime": {
     "end_time": "2021-04-14T23:44:16.789110Z",
     "start_time": "2021-04-14T23:44:16.643423Z"
    }
   },
   "outputs": [
    {
     "data": {
      "image/png": "[encoded data removed]",
      "text/plain": [
       "<Figure size 432x288 with 1 Axes>"
      ]
     },
     "metadata": {
      "needs_background": "light"
     },
     "output_type": "display_data"
    }
   ],
   "source": [
    "plt.plot(restricted_joint_excess_returns.index, res.filtered_state[1, :]);"
   ]
  },
  {
   "cell_type": "markdown",
   "metadata": {},
   "source": [
    "Smoothed $\\beta$"
   ]
  },
  {
   "cell_type": "code",
   "execution_count": 36,
   "metadata": {
    "ExecuteTime": {
     "end_time": "2021-04-14T23:44:16.931460Z",
     "start_time": "2021-04-14T23:44:16.791309Z"
    }
   },
   "outputs": [
    {
     "data": {
      "image/png": "[encoded data removed]",
      "text/plain": [
       "<Figure size 432x288 with 1 Axes>"
      ]
     },
     "metadata": {
      "needs_background": "light"
     },
     "output_type": "display_data"
    }
   ],
   "source": [
    "plt.plot(restricted_joint_excess_returns.index, res.smoothed_state[1, :]);"
   ]
  },
  {
   "cell_type": "code",
   "execution_count": null,
   "metadata": {},
   "outputs": [],
   "source": []
  }
 ],
 "metadata": {
  "kernelspec": {
   "display_name": "Python 3",
   "language": "python",
   "name": "python3"
  },
  "language_info": {
   "codemirror_mode": {
    "name": "ipython",
    "version": 3
   },
   "file_extension": ".py",
   "mimetype": "text/x-python",
   "name": "python",
   "nbconvert_exporter": "python",
   "pygments_lexer": "ipython3",
   "version": "3.7.6"
  },
  "toc": {
   "base_numbering": 1,
   "nav_menu": {},
   "number_sections": true,
   "sideBar": true,
   "skip_h1_title": false,
   "title_cell": "Table of Contents",
   "title_sidebar": "Contents",
   "toc_cell": false,
   "toc_position": {},
   "toc_section_display": true,
   "toc_window_display": false
  }
 },
 "nbformat": 4,
 "nbformat_minor": 2
}
