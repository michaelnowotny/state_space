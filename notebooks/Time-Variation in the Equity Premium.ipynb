{
 "cells": [
  {
   "cell_type": "markdown",
   "metadata": {},
   "source": [
    "# Import Packages"
   ]
  },
  {
   "cell_type": "code",
   "execution_count": 1,
   "metadata": {
    "ExecuteTime": {
     "end_time": "2021-04-14T23:54:32.118999Z",
     "start_time": "2021-04-14T23:54:32.094997Z"
    }
   },
   "outputs": [],
   "source": [
    "%load_ext autoreload\n",
    "%autoreload 2"
   ]
  },
  {
   "cell_type": "code",
   "execution_count": 2,
   "metadata": {
    "ExecuteTime": {
     "end_time": "2021-04-14T23:54:32.553588Z",
     "start_time": "2021-04-14T23:54:32.121466Z"
    }
   },
   "outputs": [
    {
     "name": "stderr",
     "output_type": "stream",
     "text": [
      "\n",
      "Bad key \"text.kerning_factor\" on line 4 in\n",
      "/Users/michaelnowotny/anaconda3/envs/continuous_time_mcmc/lib/python3.7/site-packages/matplotlib/mpl-data/stylelib/_classic_test_patch.mplstyle.\n",
      "You probably need to get an updated matplotlibrc file from\n",
      "https://github.com/matplotlib/matplotlib/blob/v3.1.3/matplotlibrc.template\n",
      "or from the matplotlib source distribution\n"
     ]
    }
   ],
   "source": [
    "%matplotlib inline"
   ]
  },
  {
   "cell_type": "code",
   "execution_count": 3,
   "metadata": {
    "ExecuteTime": {
     "end_time": "2021-04-14T23:54:33.691793Z",
     "start_time": "2021-04-14T23:54:32.556338Z"
    }
   },
   "outputs": [],
   "source": [
    "import matplotlib.pyplot as plt\n",
    "import numpy as np\n",
    "import os\n",
    "import pandas as pd\n",
    "import seaborn as sns\n",
    "sns.set(color_codes=True)\n",
    "import state_space as ss\n",
    "import statsmodels.api as sm\n",
    "import sympy as sym\n",
    "import typing as tp"
   ]
  },
  {
   "cell_type": "code",
   "execution_count": 4,
   "metadata": {
    "ExecuteTime": {
     "end_time": "2021-04-14T23:54:33.727073Z",
     "start_time": "2021-04-14T23:54:33.693622Z"
    }
   },
   "outputs": [],
   "source": [
    "from state_space import (\n",
    "    SymbolicStateSpaceModelViaMaximumLikelihood, \n",
    "    IndependentParameterTransformation, \n",
    "    LambdaUnivariateTransformation, \n",
    "    RectangularParameterTransformation)"
   ]
  },
  {
   "cell_type": "code",
   "execution_count": 5,
   "metadata": {
    "ExecuteTime": {
     "end_time": "2021-04-14T23:54:33.769847Z",
     "start_time": "2021-04-14T23:54:33.728808Z"
    }
   },
   "outputs": [],
   "source": [
    "plt.rcParams[\"figure.figsize\"] = (18,12)"
   ]
  },
  {
   "cell_type": "code",
   "execution_count": 6,
   "metadata": {
    "ExecuteTime": {
     "end_time": "2021-04-14T23:54:33.809849Z",
     "start_time": "2021-04-14T23:54:33.771743Z"
    }
   },
   "outputs": [],
   "source": [
    "pd.set_option('display.max_rows', 250)"
   ]
  },
  {
   "cell_type": "markdown",
   "metadata": {},
   "source": [
    "# Read Data"
   ]
  },
  {
   "cell_type": "markdown",
   "metadata": {},
   "source": [
    "## Returns"
   ]
  },
  {
   "cell_type": "code",
   "execution_count": 7,
   "metadata": {
    "ExecuteTime": {
     "end_time": "2021-04-14T23:54:33.850531Z",
     "start_time": "2021-04-14T23:54:33.811685Z"
    }
   },
   "outputs": [],
   "source": [
    "# spy_filename = os.path.join('data', 'GSPC_daily.csv')\n",
    "spy_filename = os.path.join('data', 'SPY_daily.csv')"
   ]
  },
  {
   "cell_type": "code",
   "execution_count": 8,
   "metadata": {
    "ExecuteTime": {
     "end_time": "2021-04-14T23:54:33.902876Z",
     "start_time": "2021-04-14T23:54:33.853892Z"
    }
   },
   "outputs": [],
   "source": [
    "df = pd.read_csv(spy_filename)"
   ]
  },
  {
   "cell_type": "code",
   "execution_count": 9,
   "metadata": {
    "ExecuteTime": {
     "end_time": "2021-04-14T23:54:33.945783Z",
     "start_time": "2021-04-14T23:54:33.905252Z"
    }
   },
   "outputs": [],
   "source": [
    "df['Date'] = pd.to_datetime(df['Date'])"
   ]
  },
  {
   "cell_type": "code",
   "execution_count": 10,
   "metadata": {
    "ExecuteTime": {
     "end_time": "2021-04-14T23:54:33.986960Z",
     "start_time": "2021-04-14T23:54:33.947451Z"
    }
   },
   "outputs": [],
   "source": [
    "df.sort_values('Date', inplace=True)"
   ]
  },
  {
   "cell_type": "code",
   "execution_count": 11,
   "metadata": {
    "ExecuteTime": {
     "end_time": "2021-04-14T23:54:34.029534Z",
     "start_time": "2021-04-14T23:54:33.988550Z"
    }
   },
   "outputs": [],
   "source": [
    "df = df.dropna()"
   ]
  },
  {
   "cell_type": "code",
   "execution_count": 12,
   "metadata": {
    "ExecuteTime": {
     "end_time": "2021-04-14T23:54:34.071918Z",
     "start_time": "2021-04-14T23:54:34.031134Z"
    }
   },
   "outputs": [],
   "source": [
    "df['Log_Return'] = np.log(df['Close']).diff()"
   ]
  },
  {
   "cell_type": "code",
   "execution_count": 13,
   "metadata": {
    "ExecuteTime": {
     "end_time": "2021-04-14T23:54:34.122408Z",
     "start_time": "2021-04-14T23:54:34.073532Z"
    }
   },
   "outputs": [
    {
     "data": {
      "text/html": [
       "<div>\n",
       "<style scoped>\n",
       "    .dataframe tbody tr th:only-of-type {\n",
       "        vertical-align: middle;\n",
       "    }\n",
       "\n",
       "    .dataframe tbody tr th {\n",
       "        vertical-align: top;\n",
       "    }\n",
       "\n",
       "    .dataframe thead th {\n",
       "        text-align: right;\n",
       "    }\n",
       "</style>\n",
       "<table border=\"1\" class=\"dataframe\">\n",
       "  <thead>\n",
       "    <tr style=\"text-align: right;\">\n",
       "      <th></th>\n",
       "      <th>Date</th>\n",
       "      <th>Open</th>\n",
       "      <th>High</th>\n",
       "      <th>Low</th>\n",
       "      <th>Close</th>\n",
       "      <th>Adj Close</th>\n",
       "      <th>Volume</th>\n",
       "      <th>Log_Return</th>\n",
       "    </tr>\n",
       "  </thead>\n",
       "  <tbody>\n",
       "    <tr>\n",
       "      <th>0</th>\n",
       "      <td>1993-01-29</td>\n",
       "      <td>43.96875</td>\n",
       "      <td>43.96875</td>\n",
       "      <td>43.75000</td>\n",
       "      <td>43.93750</td>\n",
       "      <td>26.583992</td>\n",
       "      <td>1003200</td>\n",
       "      <td>NaN</td>\n",
       "    </tr>\n",
       "    <tr>\n",
       "      <th>1</th>\n",
       "      <td>1993-02-01</td>\n",
       "      <td>43.96875</td>\n",
       "      <td>44.25000</td>\n",
       "      <td>43.96875</td>\n",
       "      <td>44.25000</td>\n",
       "      <td>26.773048</td>\n",
       "      <td>480500</td>\n",
       "      <td>0.007087</td>\n",
       "    </tr>\n",
       "    <tr>\n",
       "      <th>2</th>\n",
       "      <td>1993-02-02</td>\n",
       "      <td>44.21875</td>\n",
       "      <td>44.37500</td>\n",
       "      <td>44.12500</td>\n",
       "      <td>44.34375</td>\n",
       "      <td>26.829773</td>\n",
       "      <td>201300</td>\n",
       "      <td>0.002116</td>\n",
       "    </tr>\n",
       "    <tr>\n",
       "      <th>3</th>\n",
       "      <td>1993-02-03</td>\n",
       "      <td>44.40625</td>\n",
       "      <td>44.84375</td>\n",
       "      <td>44.37500</td>\n",
       "      <td>44.81250</td>\n",
       "      <td>27.113388</td>\n",
       "      <td>529400</td>\n",
       "      <td>0.010515</td>\n",
       "    </tr>\n",
       "    <tr>\n",
       "      <th>4</th>\n",
       "      <td>1993-02-04</td>\n",
       "      <td>44.96875</td>\n",
       "      <td>45.09375</td>\n",
       "      <td>44.46875</td>\n",
       "      <td>45.00000</td>\n",
       "      <td>27.226835</td>\n",
       "      <td>531500</td>\n",
       "      <td>0.004175</td>\n",
       "    </tr>\n",
       "  </tbody>\n",
       "</table>\n",
       "</div>"
      ],
      "text/plain": [
       "        Date      Open      High       Low     Close  Adj Close   Volume  \\\n",
       "0 1993-01-29  43.96875  43.96875  43.75000  43.93750  26.583992  1003200   \n",
       "1 1993-02-01  43.96875  44.25000  43.96875  44.25000  26.773048   480500   \n",
       "2 1993-02-02  44.21875  44.37500  44.12500  44.34375  26.829773   201300   \n",
       "3 1993-02-03  44.40625  44.84375  44.37500  44.81250  27.113388   529400   \n",
       "4 1993-02-04  44.96875  45.09375  44.46875  45.00000  27.226835   531500   \n",
       "\n",
       "   Log_Return  \n",
       "0         NaN  \n",
       "1    0.007087  \n",
       "2    0.002116  \n",
       "3    0.010515  \n",
       "4    0.004175  "
      ]
     },
     "execution_count": 13,
     "metadata": {},
     "output_type": "execute_result"
    }
   ],
   "source": [
    "df.head()"
   ]
  },
  {
   "cell_type": "markdown",
   "metadata": {},
   "source": [
    "## Factor Data"
   ]
  },
  {
   "cell_type": "code",
   "execution_count": 14,
   "metadata": {
    "ExecuteTime": {
     "end_time": "2021-04-14T23:54:34.160910Z",
     "start_time": "2021-04-14T23:54:34.124044Z"
    }
   },
   "outputs": [],
   "source": [
    "factor_filename = os.path.join('data', 'F-F_Research_Data_Factors_daily.CSV')"
   ]
  },
  {
   "cell_type": "code",
   "execution_count": 15,
   "metadata": {
    "ExecuteTime": {
     "end_time": "2021-04-14T23:54:34.373882Z",
     "start_time": "2021-04-14T23:54:34.162589Z"
    }
   },
   "outputs": [],
   "source": [
    "factors \\\n",
    "    = pd.read_csv(factor_filename, \n",
    "                  engine='python', \n",
    "                  skiprows=5, \n",
    "                  names=['Date', 'Mkt-RF', 'SMB', 'HML', 'RF'], \n",
    "                  skipfooter=1)\n",
    "factors['Date'] = pd.to_datetime(factors['Date'], format='%Y%m%d')\n",
    "factors['RF'] *= 0.01\n",
    "factors = factors.dropna()"
   ]
  },
  {
   "cell_type": "markdown",
   "metadata": {},
   "source": [
    "## Merge Returns and Risk-Free Rate"
   ]
  },
  {
   "cell_type": "code",
   "execution_count": 16,
   "metadata": {
    "ExecuteTime": {
     "end_time": "2021-04-14T23:54:34.420638Z",
     "start_time": "2021-04-14T23:54:34.375540Z"
    }
   },
   "outputs": [],
   "source": [
    "df = df.merge(factors.loc[:, ['Date', 'RF']], on='Date')"
   ]
  },
  {
   "cell_type": "code",
   "execution_count": 17,
   "metadata": {
    "ExecuteTime": {
     "end_time": "2021-04-14T23:54:34.463930Z",
     "start_time": "2021-04-14T23:54:34.422286Z"
    }
   },
   "outputs": [],
   "source": [
    "df['Excess_Return'] = df['Log_Return'] - np.log(1.0 + df['RF'])"
   ]
  },
  {
   "cell_type": "code",
   "execution_count": 18,
   "metadata": {
    "ExecuteTime": {
     "end_time": "2021-04-14T23:54:34.507107Z",
     "start_time": "2021-04-14T23:54:34.465622Z"
    }
   },
   "outputs": [],
   "source": [
    "df = df.dropna()"
   ]
  },
  {
   "cell_type": "markdown",
   "metadata": {},
   "source": [
    "## Extract Time-Series"
   ]
  },
  {
   "cell_type": "markdown",
   "metadata": {},
   "source": [
    "Equity returns"
   ]
  },
  {
   "cell_type": "code",
   "execution_count": 19,
   "metadata": {
    "ExecuteTime": {
     "end_time": "2021-04-14T23:54:34.548359Z",
     "start_time": "2021-04-14T23:54:34.508683Z"
    }
   },
   "outputs": [],
   "source": [
    "# log_returns = np.log(df['Close']).diff().dropna().values\n",
    "log_returns = np.log(df['Close']).diff().values"
   ]
  },
  {
   "cell_type": "markdown",
   "metadata": {},
   "source": [
    "Risk-free Rate"
   ]
  },
  {
   "cell_type": "code",
   "execution_count": 20,
   "metadata": {
    "ExecuteTime": {
     "end_time": "2021-04-14T23:54:34.590622Z",
     "start_time": "2021-04-14T23:54:34.550032Z"
    }
   },
   "outputs": [],
   "source": [
    "r = np.log(1.0 + (df['RF'].values))"
   ]
  },
  {
   "cell_type": "markdown",
   "metadata": {},
   "source": [
    "Compute excess returns"
   ]
  },
  {
   "cell_type": "code",
   "execution_count": 21,
   "metadata": {
    "ExecuteTime": {
     "end_time": "2021-04-14T23:54:34.633352Z",
     "start_time": "2021-04-14T23:54:34.592920Z"
    }
   },
   "outputs": [],
   "source": [
    "excess_returns = df['Excess_Return'].values"
   ]
  },
  {
   "cell_type": "markdown",
   "metadata": {},
   "source": [
    "# Time-Series Model"
   ]
  },
  {
   "cell_type": "markdown",
   "metadata": {},
   "source": [
    "## Stochastic Process"
   ]
  },
  {
   "cell_type": "markdown",
   "metadata": {},
   "source": [
    "Assume that the (unobserved) equity premium $\\mu_t$ follwos the autoregressive process  \n",
    "\n",
    "$\\mu_{t+1} = \\alpha + \\beta \\mu_t + \\eta_{t+1}$,  \n",
    "\n",
    "where $\\alpha, \\beta \\in \\mathbb{R}$ and $\\{\\eta\\}_{t=1}^T$ is a sequence of i.i.d. normal shocks with mean zero and variance $\\sigma_{\\eta}^2$.\n",
    "\n",
    "The (observed) log return $r_t$ is generated via  \n",
    "\n",
    "$r_t = r_{f, t} + \\mu_t + \\epsilon_t$,  \n",
    "\n",
    "where $r_{f, t}$ is the risk-free rate at time $t$ and $\\{\\epsilon\\}_{t=1}^T$ is a sequence of i.i.d. normal shocks with mean zero and variance $\\sigma_{\\epsilon}^2$.\n",
    "\n",
    "Subtracting the risk-free rate, we obtain the following process for the log excess return:\n",
    "\n",
    "$x_t = r_t - r_{f, t} = \\mu_t + \\epsilon_t$."
   ]
  },
  {
   "cell_type": "markdown",
   "metadata": {},
   "source": [
    "## Linear State Space Representation and Kalman Filter"
   ]
  },
  {
   "cell_type": "markdown",
   "metadata": {},
   "source": [
    "See https://www.statsmodels.org/stable/statespace.html"
   ]
  },
  {
   "cell_type": "markdown",
   "metadata": {},
   "source": [
    "The time-varying equity premium model is a linear state space model of the form  \n",
    "\n",
    "$$\n",
    "\\begin{align*}\n",
    "s_{t+1} & = T_t s_t + c_t + R_t \\eta_{t+1} \\text{ (state equation)} \\\\\n",
    "y_t & = Z_t s_t + d_t + \\epsilon_t \\text{ (observation equation)},\n",
    "\\end{align*}\n",
    "$$\n",
    "where  \n",
    "$$\n",
    "\\begin{align*}\n",
    "\\epsilon_t & \\sim N(0, H_t) \\\\\n",
    "\\eta_t & \\sim N(0, Q_t).\n",
    "\\end{align*}\n",
    "$$\n",
    "In this time-varying equity premium model, the observation $y_t$ is the log return $x_t$ and the state $\\alpha_t$ is the equity premium $\\mu_t$. The coefficients specific to this model are given by  \n",
    "$$\n",
    "\\begin{align*}\n",
    "Z_t & = 1 \\\\\n",
    "R_t & = 1 \\\\\n",
    "T_t & = \\beta_{\\mu} \\\\\n",
    "H_t & = \\sigma^2 \\\\\n",
    "Q_t & = \\sigma_{\\mu}^2 \\\\\n",
    "c_t & = \\alpha_{\\mu}\n",
    "\\end{align*}\n",
    "$$\n",
    "All other coefficients are zero and we obtain  \n",
    "$$\n",
    "\\begin{align*}\n",
    "\\mu_{t+1} & = \\beta_{\\mu} \\mu_t + \\alpha_{\\mu} + \\eta_t \\text{ (state equation)} \\\\\n",
    "x_t & = \\mu_t + \\epsilon_t \\text{ (observation equation)},\n",
    "\\end{align*}\n",
    "$$"
   ]
  },
  {
   "cell_type": "markdown",
   "metadata": {},
   "source": [
    "## Representing Coefficients in SymPy and Building the Symbolic State Space Model"
   ]
  },
  {
   "cell_type": "markdown",
   "metadata": {},
   "source": [
    "Construct parameter symbols (this is used to teell  State Space which parameters are to be estimated via MLE)"
   ]
  },
  {
   "cell_type": "code",
   "execution_count": 22,
   "metadata": {
    "ExecuteTime": {
     "end_time": "2021-04-14T23:54:34.675676Z",
     "start_time": "2021-04-14T23:54:34.635050Z"
    }
   },
   "outputs": [],
   "source": [
    "parameter_symbols = \\\n",
    "    sym.symbols(('alpha.mu',\n",
    "                 'beta.mu',\n",
    "                 'sigma',\n",
    "                 'sigma.mu'))\n",
    "\n",
    "alpha_mu, beta_mu, sigma, sigma_mu = parameter_symbols"
   ]
  },
  {
   "cell_type": "markdown",
   "metadata": {},
   "source": [
    "Construct coefficient vectors and matrices"
   ]
  },
  {
   "cell_type": "code",
   "execution_count": 23,
   "metadata": {
    "ExecuteTime": {
     "end_time": "2021-04-14T23:54:34.721890Z",
     "start_time": "2021-04-14T23:54:34.681304Z"
    }
   },
   "outputs": [],
   "source": [
    "H = sym.Matrix([sigma**2])\n",
    "Q = sym.Matrix([sigma_mu**2])\n",
    "c = sym.Matrix([alpha_mu])\n",
    "T = sym.Matrix([beta_mu])\n",
    "Z = sym.Matrix.ones(rows=1, cols=1)\n",
    "R = sym.Matrix.ones(rows=1, cols=1)"
   ]
  },
  {
   "cell_type": "markdown",
   "metadata": {},
   "source": [
    "Define the state vector"
   ]
  },
  {
   "cell_type": "code",
   "execution_count": 24,
   "metadata": {
    "ExecuteTime": {
     "end_time": "2021-04-14T23:54:34.762374Z",
     "start_time": "2021-04-14T23:54:34.724198Z"
    }
   },
   "outputs": [],
   "source": [
    "state_vector_symbols = tuple([sym.Symbol('mu')])"
   ]
  },
  {
   "cell_type": "markdown",
   "metadata": {},
   "source": [
    "Map data symbols (return) to data arrays (NumPy or Pandas series)"
   ]
  },
  {
   "cell_type": "code",
   "execution_count": 25,
   "metadata": {
    "ExecuteTime": {
     "end_time": "2021-04-14T23:54:34.803532Z",
     "start_time": "2021-04-14T23:54:34.764082Z"
    }
   },
   "outputs": [],
   "source": [
    "y = sym.Symbol('y')\n",
    "data_symbol_to_data_map = {y: excess_returns}"
   ]
  },
  {
   "cell_type": "markdown",
   "metadata": {},
   "source": [
    "Set starting values for the numerical optimization"
   ]
  },
  {
   "cell_type": "code",
   "execution_count": 26,
   "metadata": {
    "ExecuteTime": {
     "end_time": "2021-04-14T23:54:34.842717Z",
     "start_time": "2021-04-14T23:54:34.805288Z"
    }
   },
   "outputs": [],
   "source": [
    "parameter_symbols_to_start_parameters_map = \\\n",
    "    {alpha_mu: 0.0,\n",
    "     beta_mu: 0.0,\n",
    "     sigma: 0.001,\n",
    "     sigma_mu: 0.001}"
   ]
  },
  {
   "cell_type": "markdown",
   "metadata": {},
   "source": [
    "Define transformations so that the numerical optimizer can operate in an unconstrained parameter space"
   ]
  },
  {
   "cell_type": "markdown",
   "metadata": {},
   "source": [
    "Option A: Using individual univariate transformation functions"
   ]
  },
  {
   "cell_type": "code",
   "execution_count": 27,
   "metadata": {
    "ExecuteTime": {
     "end_time": "2021-04-14T23:54:34.883428Z",
     "start_time": "2021-04-14T23:54:34.844401Z"
    }
   },
   "outputs": [],
   "source": [
    "squared_univariate_transform = \\\n",
    "    LambdaUnivariateTransformation(\n",
    "        transform_function=lambda x: x**2,\n",
    "        untransform_function=lambda x: x**0.5)\n",
    "\n",
    "parameter_transformation = \\\n",
    "    IndependentParameterTransformation(\n",
    "        parameter_symbols=parameter_symbols,\n",
    "        parameter_symbol_to_univariate_transformation_map\n",
    "        ={sigma: squared_univariate_transform,\n",
    "          sigma_mu: squared_univariate_transform})"
   ]
  },
  {
   "cell_type": "markdown",
   "metadata": {},
   "source": [
    "Option B: Using lower and upper bounds on individual parameters"
   ]
  },
  {
   "cell_type": "code",
   "execution_count": 28,
   "metadata": {
    "ExecuteTime": {
     "end_time": "2021-04-14T23:54:34.923108Z",
     "start_time": "2021-04-14T23:54:34.885149Z"
    }
   },
   "outputs": [],
   "source": [
    "# parameter_transformation = \\\n",
    "#     RectangularParameterTransformation(parameter_symbols=parameter_symbols, \n",
    "#                                        parameter_symbol_to_bounds_map={sigma: (0, np.inf), \n",
    "#                                                                        sigma_mu: (0, np.inf)})"
   ]
  },
  {
   "cell_type": "markdown",
   "metadata": {},
   "source": [
    "Compile the symbolic definition to the statsmodels format for numeric MLE"
   ]
  },
  {
   "cell_type": "code",
   "execution_count": 29,
   "metadata": {
    "ExecuteTime": {
     "end_time": "2021-04-14T23:54:34.978188Z",
     "start_time": "2021-04-14T23:54:34.924801Z"
    }
   },
   "outputs": [],
   "source": [
    "time_varying_equity_premium_model = \\\n",
    "    SymbolicStateSpaceModelViaMaximumLikelihood(parameter_symbols=parameter_symbols,\n",
    "                                                state_vector_symbols=state_vector_symbols,\n",
    "                                                observation_vector_symbols=tuple([y]),\n",
    "                                                data_symbol_to_data_map=data_symbol_to_data_map,\n",
    "                                                parameter_symbols_to_start_parameters_map\n",
    "                                                =parameter_symbols_to_start_parameters_map,\n",
    "                                                parameter_transformation=parameter_transformation,\n",
    "                                                design_matrix=Z,\n",
    "                                                selection_matrix=R,\n",
    "                                                transition_matrix=T,\n",
    "                                                state_intercept_vector=c,\n",
    "                                                state_covariance_matrix=Q,\n",
    "                                                observation_covariance_matrix=H)"
   ]
  },
  {
   "cell_type": "markdown",
   "metadata": {},
   "source": [
    "# Estimation"
   ]
  },
  {
   "cell_type": "code",
   "execution_count": 30,
   "metadata": {
    "ExecuteTime": {
     "end_time": "2021-04-14T23:54:37.042887Z",
     "start_time": "2021-04-14T23:54:34.979800Z"
    }
   },
   "outputs": [
    {
     "name": "stdout",
     "output_type": "stream",
     "text": [
      "                                        Statespace Model Results                                       \n",
      "=======================================================================================================\n",
      "Dep. Variable:                                               y   No. Observations:                 6738\n",
      "Model:             SymbolicStateSpaceModelViaMaximumLikelihood   Log Likelihood               20553.314\n",
      "Date:                                         Wed, 14 Apr 2021   AIC                         -41098.627\n",
      "Time:                                                 16:54:37   BIC                         -41071.366\n",
      "Sample:                                                      0   HQIC                        -41089.215\n",
      "                                                        - 6738                                         \n",
      "Covariance Type:                                           opg                                         \n",
      "==============================================================================\n",
      "                 coef    std err          z      P>|z|      [0.025      0.975]\n",
      "------------------------------------------------------------------------------\n",
      "alpha.mu       0.0002      0.000      1.270      0.204      -0.000       0.000\n",
      "beta.mu       -0.0627      0.094     -0.664      0.506      -0.248       0.122\n",
      "sigma          0.0026      0.036      0.073      0.942      -0.068       0.073\n",
      "sigma.mu       0.0111      0.008      1.323      0.186      -0.005       0.028\n",
      "===================================================================================\n",
      "Ljung-Box (Q):                      139.18   Jarque-Bera (JB):             28859.62\n",
      "Prob(Q):                              0.00   Prob(JB):                         0.00\n",
      "Heteroskedasticity (H):               0.68   Skew:                            -0.21\n",
      "Prob(H) (two-sided):                  0.00   Kurtosis:                        13.13\n",
      "===================================================================================\n",
      "\n",
      "Warnings:\n",
      "[1] Covariance matrix calculated using the outer product of gradients (complex-step).\n"
     ]
    },
    {
     "name": "stderr",
     "output_type": "stream",
     "text": [
      "/Users/michaelnowotny/anaconda3/envs/continuous_time_mcmc/lib/python3.7/site-packages/statsmodels/base/model.py:568: ConvergenceWarning: Maximum Likelihood optimization failed to converge. Check mle_retvals\n",
      "  \"Check mle_retvals\", ConvergenceWarning)\n"
     ]
    }
   ],
   "source": [
    "result = time_varying_equity_premium_model.fit(disp=False)\n",
    "print(result.summary())"
   ]
  },
  {
   "cell_type": "markdown",
   "metadata": {},
   "source": [
    "Filtered equity premium"
   ]
  },
  {
   "cell_type": "code",
   "execution_count": 31,
   "metadata": {
    "ExecuteTime": {
     "end_time": "2021-04-14T23:54:37.393243Z",
     "start_time": "2021-04-14T23:54:37.044633Z"
    }
   },
   "outputs": [
    {
     "data": {
      "image/png": "[encoded data removed]",
      "text/plain": [
       "<Figure size 1296x864 with 1 Axes>"
      ]
     },
     "metadata": {},
     "output_type": "display_data"
    }
   ],
   "source": [
    "plt.plot(df['Date'], result.filtered_state[0, :]);"
   ]
  },
  {
   "cell_type": "markdown",
   "metadata": {},
   "source": [
    "Smoothed equity premium"
   ]
  },
  {
   "cell_type": "code",
   "execution_count": 32,
   "metadata": {
    "ExecuteTime": {
     "end_time": "2021-04-14T23:54:37.728239Z",
     "start_time": "2021-04-14T23:54:37.395875Z"
    }
   },
   "outputs": [
    {
     "data": {
      "image/png": "[encoded data removed]",
      "text/plain": [
       "<Figure size 1296x864 with 1 Axes>"
      ]
     },
     "metadata": {},
     "output_type": "display_data"
    }
   ],
   "source": [
    "plt.plot(df['Date'], result.smoothed_state[0, :]);"
   ]
  },
  {
   "cell_type": "code",
   "execution_count": null,
   "metadata": {},
   "outputs": [],
   "source": []
  }
 ],
 "metadata": {
  "kernelspec": {
   "display_name": "Python 3",
   "language": "python",
   "name": "python3"
  },
  "language_info": {
   "codemirror_mode": {
    "name": "ipython",
    "version": 3
   },
   "file_extension": ".py",
   "mimetype": "text/x-python",
   "name": "python",
   "nbconvert_exporter": "python",
   "pygments_lexer": "ipython3",
   "version": "3.7.6"
  },
  "toc": {
   "base_numbering": 1,
   "nav_menu": {},
   "number_sections": true,
   "sideBar": true,
   "skip_h1_title": false,
   "title_cell": "Table of Contents",
   "title_sidebar": "Contents",
   "toc_cell": false,
   "toc_position": {
    "height": "calc(100% - 180px)",
    "left": "10px",
    "top": "150px",
    "width": "289.5652160644531px"
   },
   "toc_section_display": true,
   "toc_window_display": true
  }
 },
 "nbformat": 4,
 "nbformat_minor": 2
}
